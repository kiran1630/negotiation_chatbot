{
 "cells": [
  {
   "cell_type": "code",
   "execution_count": 1,
   "metadata": {},
   "outputs": [],
   "source": [
    "from dotenv import load_dotenv\n",
    "import os\n",
    "from langchain_groq import ChatGroq\n",
    "from langchain_core.prompts import PromptTemplate\n",
    "from langchain_core.messages import HumanMessage\n",
    "from langgraph.checkpoint.memory import MemorySaver\n",
    "from langgraph.graph import START, MessagesState, StateGraph\n"
   ]
  },
  {
   "cell_type": "code",
   "execution_count": 2,
   "metadata": {},
   "outputs": [],
   "source": [
    "os.environ['GROQ_API_KEY'] = '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'"
   ]
  },
  {
   "cell_type": "code",
   "execution_count": 3,
   "metadata": {},
   "outputs": [],
   "source": [
    "llm = ChatGroq(temperature=0, groq_api_key=os.getenv(\"GROQ_API_KEY\"), model_name=\"llama-3.1-70b-versatile\")"
   ]
  },
  {
   "cell_type": "code",
   "execution_count": 13,
   "metadata": {},
   "outputs": [],
   "source": [
    "prompt_extract = PromptTemplate.from_template(\n",
    "            \"\"\"\n",
    "            ###  your are interactive chatbot and answer the question \n",
    "            ### great and answer the question \n",
    "            \"\"\"\n",
    "        )\n",
    "chain_extract = llm\n",
    "# res = chain_extract.invoke(input={'hi hello could you give me this item for 100 rupe'})\n"
   ]
  },
  {
   "cell_type": "code",
   "execution_count": 5,
   "metadata": {},
   "outputs": [],
   "source": [
    "\n",
    "# Define a new graph\n",
    "workflow = StateGraph(state_schema=MessagesState)\n",
    "\n",
    "\n",
    "# Define the function that calls the model\n",
    "def call_model(state: MessagesState):\n",
    "    response = chain_extract.invoke(state[\"messages\"])\n",
    "    return {\"messages\": response}\n",
    "\n",
    "\n",
    "# Define the (single) node in the graph\n",
    "workflow.add_edge(START, \"model\")\n",
    "workflow.add_node(\"model\", call_model)\n",
    "\n",
    "# Add memory\n",
    "memory = MemorySaver()\n",
    "app = workflow.compile(checkpointer=memory)"
   ]
  },
  {
   "cell_type": "code",
   "execution_count": 6,
   "metadata": {},
   "outputs": [],
   "source": [
    "config = {\"configurable\": {\"thread_id\": \"abc123\"}}"
   ]
  },
  {
   "cell_type": "code",
   "execution_count": 20,
   "metadata": {},
   "outputs": [
    {
     "name": "stdout",
     "output_type": "stream",
     "text": [
      "Hi Bob, it's nice to meet you. Is there something I can help you with or would you like to chat?\n"
     ]
    }
   ],
   "source": [
    "\n",
    "query = \"Hi! I'm Bob.\"\n",
    "\n",
    "input_messages = [HumanMessage(query)]\n",
    "output = llm.invoke(input_messages, config)\n",
    "print(output.content)  # output contains all messages in state"
   ]
  },
  {
   "cell_type": "code",
   "execution_count": 19,
   "metadata": {},
   "outputs": [
    {
     "ename": "ValueError",
     "evalue": "Invalid input type <class 'dict'>. Must be a PromptValue, str, or list of BaseMessages.",
     "output_type": "error",
     "traceback": [
      "\u001b[1;31m---------------------------------------------------------------------------\u001b[0m",
      "\u001b[1;31mValueError\u001b[0m                                Traceback (most recent call last)",
      "Cell \u001b[1;32mIn[19], line 4\u001b[0m\n\u001b[0;32m      1\u001b[0m query \u001b[38;5;241m=\u001b[39m \u001b[38;5;124m\"\u001b[39m\u001b[38;5;124mWhat\u001b[39m\u001b[38;5;124m'\u001b[39m\u001b[38;5;124ms my name?\u001b[39m\u001b[38;5;124m\"\u001b[39m\n\u001b[0;32m      3\u001b[0m input_messages \u001b[38;5;241m=\u001b[39m [HumanMessage(\u001b[38;5;28mstr\u001b[39m(query))]\n\u001b[1;32m----> 4\u001b[0m output \u001b[38;5;241m=\u001b[39m \u001b[43mchain_extract\u001b[49m\u001b[38;5;241;43m.\u001b[39;49m\u001b[43minvoke\u001b[49m\u001b[43m(\u001b[49m\u001b[43m{\u001b[49m\u001b[38;5;124;43m\"\u001b[39;49m\u001b[38;5;124;43mmessages\u001b[39;49m\u001b[38;5;124;43m\"\u001b[39;49m\u001b[43m:\u001b[49m\u001b[43m \u001b[49m\u001b[43minput_messages\u001b[49m\u001b[43m}\u001b[49m\u001b[43m,\u001b[49m\u001b[43m \u001b[49m\u001b[43mconfig\u001b[49m\u001b[43m)\u001b[49m\n\u001b[0;32m      5\u001b[0m \u001b[38;5;28mprint\u001b[39m(output\u001b[38;5;241m.\u001b[39mcontent)\n",
      "File \u001b[1;32me:\\users\\lib\\site-packages\\langchain_core\\language_models\\chat_models.py:285\u001b[0m, in \u001b[0;36mBaseChatModel.invoke\u001b[1;34m(self, input, config, stop, **kwargs)\u001b[0m\n\u001b[0;32m    273\u001b[0m \u001b[38;5;28;01mdef\u001b[39;00m \u001b[38;5;21minvoke\u001b[39m(\n\u001b[0;32m    274\u001b[0m     \u001b[38;5;28mself\u001b[39m,\n\u001b[0;32m    275\u001b[0m     \u001b[38;5;28minput\u001b[39m: LanguageModelInput,\n\u001b[1;32m   (...)\u001b[0m\n\u001b[0;32m    279\u001b[0m     \u001b[38;5;241m*\u001b[39m\u001b[38;5;241m*\u001b[39mkwargs: Any,\n\u001b[0;32m    280\u001b[0m ) \u001b[38;5;241m-\u001b[39m\u001b[38;5;241m>\u001b[39m BaseMessage:\n\u001b[0;32m    281\u001b[0m     config \u001b[38;5;241m=\u001b[39m ensure_config(config)\n\u001b[0;32m    282\u001b[0m     \u001b[38;5;28;01mreturn\u001b[39;00m cast(\n\u001b[0;32m    283\u001b[0m         ChatGeneration,\n\u001b[0;32m    284\u001b[0m         \u001b[38;5;28mself\u001b[39m\u001b[38;5;241m.\u001b[39mgenerate_prompt(\n\u001b[1;32m--> 285\u001b[0m             [\u001b[38;5;28;43mself\u001b[39;49m\u001b[38;5;241;43m.\u001b[39;49m\u001b[43m_convert_input\u001b[49m\u001b[43m(\u001b[49m\u001b[38;5;28;43minput\u001b[39;49m\u001b[43m)\u001b[49m],\n\u001b[0;32m    286\u001b[0m             stop\u001b[38;5;241m=\u001b[39mstop,\n\u001b[0;32m    287\u001b[0m             callbacks\u001b[38;5;241m=\u001b[39mconfig\u001b[38;5;241m.\u001b[39mget(\u001b[38;5;124m\"\u001b[39m\u001b[38;5;124mcallbacks\u001b[39m\u001b[38;5;124m\"\u001b[39m),\n\u001b[0;32m    288\u001b[0m             tags\u001b[38;5;241m=\u001b[39mconfig\u001b[38;5;241m.\u001b[39mget(\u001b[38;5;124m\"\u001b[39m\u001b[38;5;124mtags\u001b[39m\u001b[38;5;124m\"\u001b[39m),\n\u001b[0;32m    289\u001b[0m             metadata\u001b[38;5;241m=\u001b[39mconfig\u001b[38;5;241m.\u001b[39mget(\u001b[38;5;124m\"\u001b[39m\u001b[38;5;124mmetadata\u001b[39m\u001b[38;5;124m\"\u001b[39m),\n\u001b[0;32m    290\u001b[0m             run_name\u001b[38;5;241m=\u001b[39mconfig\u001b[38;5;241m.\u001b[39mget(\u001b[38;5;124m\"\u001b[39m\u001b[38;5;124mrun_name\u001b[39m\u001b[38;5;124m\"\u001b[39m),\n\u001b[0;32m    291\u001b[0m             run_id\u001b[38;5;241m=\u001b[39mconfig\u001b[38;5;241m.\u001b[39mpop(\u001b[38;5;124m\"\u001b[39m\u001b[38;5;124mrun_id\u001b[39m\u001b[38;5;124m\"\u001b[39m, \u001b[38;5;28;01mNone\u001b[39;00m),\n\u001b[0;32m    292\u001b[0m             \u001b[38;5;241m*\u001b[39m\u001b[38;5;241m*\u001b[39mkwargs,\n\u001b[0;32m    293\u001b[0m         )\u001b[38;5;241m.\u001b[39mgenerations[\u001b[38;5;241m0\u001b[39m][\u001b[38;5;241m0\u001b[39m],\n\u001b[0;32m    294\u001b[0m     )\u001b[38;5;241m.\u001b[39mmessage\n",
      "File \u001b[1;32me:\\users\\lib\\site-packages\\langchain_core\\language_models\\chat_models.py:268\u001b[0m, in \u001b[0;36mBaseChatModel._convert_input\u001b[1;34m(self, input)\u001b[0m\n\u001b[0;32m    266\u001b[0m     \u001b[38;5;28;01mreturn\u001b[39;00m ChatPromptValue(messages\u001b[38;5;241m=\u001b[39mconvert_to_messages(\u001b[38;5;28minput\u001b[39m))\n\u001b[0;32m    267\u001b[0m \u001b[38;5;28;01melse\u001b[39;00m:\n\u001b[1;32m--> 268\u001b[0m     \u001b[38;5;28;01mraise\u001b[39;00m \u001b[38;5;167;01mValueError\u001b[39;00m(\n\u001b[0;32m    269\u001b[0m         \u001b[38;5;124mf\u001b[39m\u001b[38;5;124m\"\u001b[39m\u001b[38;5;124mInvalid input type \u001b[39m\u001b[38;5;132;01m{\u001b[39;00m\u001b[38;5;28mtype\u001b[39m(\u001b[38;5;28minput\u001b[39m)\u001b[38;5;132;01m}\u001b[39;00m\u001b[38;5;124m. \u001b[39m\u001b[38;5;124m\"\u001b[39m\n\u001b[0;32m    270\u001b[0m         \u001b[38;5;124m\"\u001b[39m\u001b[38;5;124mMust be a PromptValue, str, or list of BaseMessages.\u001b[39m\u001b[38;5;124m\"\u001b[39m\n\u001b[0;32m    271\u001b[0m     )\n",
      "\u001b[1;31mValueError\u001b[0m: Invalid input type <class 'dict'>. Must be a PromptValue, str, or list of BaseMessages."
     ]
    }
   ],
   "source": [
    "from langchain_core.prompts import ChatPromptTemplate, MessagesPlaceholder\n",
    "\n",
    "prompt = ChatPromptTemplate.from_messages(\n",
    "    [\n",
    "        (\n",
    "            \"system\",\n",
    "            \"You talk like a pirate. Answer all questions to the best of your ability.\",\n",
    "        ),\n",
    "        MessagesPlaceholder(variable_name=\"messages\"),\n",
    "    ]\n",
    ")\n",
    "workflow = StateGraph(state_schema=MessagesState)\n",
    "\n",
    "\n",
    "def call_model(state: MessagesState):\n",
    "    chain = prompt | llm\n",
    "    response = chain.invoke(state)\n",
    "    return {\"messages\": response}\n",
    "\n",
    "\n",
    "workflow.add_edge(START, \"model\")\n",
    "workflow.add_node(\"model\", call_model)\n",
    "\n",
    "memory = MemorySaver()\n",
    "app = workflow.compile(checkpointer=memory)"
   ]
  },
  {
   "cell_type": "code",
   "execution_count": 21,
   "metadata": {},
   "outputs": [
    {
     "name": "stdout",
     "output_type": "stream",
     "text": [
      "I don't have any information about your name. This is the beginning of our conversation, and I don't have any prior knowledge about you. If you'd like to share your name, I'd be happy to chat with you.\n"
     ]
    }
   ],
   "source": [
    "query = \"Hi ! what is my name.\"\n",
    "\n",
    "input_messages = [HumanMessage(query)]\n",
    "output = llm.invoke(input_messages, config)\n",
    "print(output.content)  # output contains all messages in state"
   ]
  },
  {
   "cell_type": "code",
   "execution_count": 1,
   "metadata": {},
   "outputs": [
    {
     "name": "stdout",
     "output_type": "stream",
     "text": [
      "CSV file saved successfully!\n"
     ]
    }
   ],
   "source": [
    "import pandas as pd\n",
    "\n",
    "# List of items with original and selling prices\n",
    "items = [\n",
    "    {\"Item\": \"Smartphone\", \"Original Price\": 500, \"Selling Price\": 550},\n",
    "    {\"Item\": \"Laptop\", \"Original Price\": 800, \"Selling Price\": 880},\n",
    "    {\"Item\": \"Headphones\", \"Original Price\": 50, \"Selling Price\": 60},\n",
    "    {\"Item\": \"Smartwatch\", \"Original Price\": 150, \"Selling Price\": 165},\n",
    "    {\"Item\": \"Bluetooth Speaker\", \"Original Price\": 100, \"Selling Price\": 120},\n",
    "    {\"Item\": \"Tablet\", \"Original Price\": 300, \"Selling Price\": 350},\n",
    "    {\"Item\": \"Camera\", \"Original Price\": 600, \"Selling Price\": 680},\n",
    "    {\"Item\": \"Gaming Console\", \"Original Price\": 400, \"Selling Price\": 450},\n",
    "    {\"Item\": \"Wireless Mouse\", \"Original Price\": 20, \"Selling Price\": 25},\n",
    "    {\"Item\": \"Keyboard\", \"Original Price\": 30, \"Selling Price\": 40},\n",
    "    {\"Item\": \"Monitor\", \"Original Price\": 200, \"Selling Price\": 230},\n",
    "    {\"Item\": \"Printer\", \"Original Price\": 150, \"Selling Price\": 175},\n",
    "    {\"Item\": \"External Hard Drive\", \"Original Price\": 80, \"Selling Price\": 95},\n",
    "    {\"Item\": \"Router\", \"Original Price\": 70, \"Selling Price\": 85},\n",
    "    {\"Item\": \"Television\", \"Original Price\": 900, \"Selling Price\": 1000},\n",
    "    {\"Item\": \"Air Conditioner\", \"Original Price\": 1200, \"Selling Price\": 1300},\n",
    "    {\"Item\": \"Microwave Oven\", \"Original Price\": 250, \"Selling Price\": 275},\n",
    "    {\"Item\": \"Refrigerator\", \"Original Price\": 1000, \"Selling Price\": 1100},\n",
    "    {\"Item\": \"Washing Machine\", \"Original Price\": 700, \"Selling Price\": 780},\n",
    "    {\"Item\": \"Vacuum Cleaner\", \"Original Price\": 150, \"Selling Price\": 175}\n",
    "]\n",
    "\n",
    "# Create a pandas DataFrame from the list\n",
    "df = pd.DataFrame(items)\n",
    "\n",
    "# Output the DataFrame to a CSV file\n",
    "df.to_csv(\"ecommerce_items.csv\", index=False)\n",
    "\n",
    "print(\"CSV file saved successfully!\")\n"
   ]
  },
  {
   "cell_type": "code",
   "execution_count": 9,
   "metadata": {},
   "outputs": [
    {
     "data": {
      "text/plain": [
       "19"
      ]
     },
     "execution_count": 9,
     "metadata": {},
     "output_type": "execute_result"
    }
   ],
   "source": [
    "from langchain_community.utilities import SQLDatabase\n",
    "from sqlalchemy import create_engine\n",
    "import pandas as pd\n",
    "\n",
    "df = pd.read_csv(\"ecom_items.csv\")\n",
    "\n",
    "engine = create_engine(\"sqlite:///product.db\")\n",
    "df.to_sql(\"product\", engine, index=False)"
   ]
  },
  {
   "cell_type": "code",
   "execution_count": 10,
   "metadata": {},
   "outputs": [
    {
     "name": "stdout",
     "output_type": "stream",
     "text": [
      "sqlite\n",
      "['product']\n",
      "[('Smartphone', 'TechInnovate', 500, 550, 'A sleek and powerful smartphone with a 6.5-inch display, 128GB storage, and a 48MP camera for stunning photography.'), ('Laptop', 'Computech', 800, 880, 'High-performance laptop with a 15.6-inch Full HD display, 16GB RAM, and Intel i7 processor for multitasking and gaming.'), ('Camera', 'SnapVision', 600, 680, '24.1MP DSLR camera with 4K video recording, optical zoom, and a large ISO range for professional-level photography.'), ('Television', 'CineView', 900, 1000, '55-inch 4K UHD Smart TV with HDR support, built-in streaming apps, and voice control for a hands-free experience.'), ('Air Conditioner', 'CoolBreeze', 1200, 1300, '1.5-ton split air conditioner with fast cooling, energy efficiency, and smart temperature control via mobile app.'), ('Refrigerator', 'ChillPro', 1000, 1100, 'Double-door refrigerator with frost-free cooling, energy-efficient inverter technology, and ample storage space.'), ('Washing Machine', 'WashMate', 700, 780, '7kg fully automatic washing machine with smart wash programs, fast spin cycle, and noise reduction technology for quieter operation.')]\n"
     ]
    }
   ],
   "source": [
    "db = SQLDatabase(engine=engine)\n",
    "print(db.dialect)\n",
    "print(db.get_usable_table_names())\n",
    "print(db.run(\"SELECT * FROM product WHERE Original_Price > 400;\"))"
   ]
  },
  {
   "cell_type": "code",
   "execution_count": 14,
   "metadata": {},
   "outputs": [],
   "source": [
    "from langchain_community.agent_toolkits import create_sql_agent\n",
    "\n",
    "agent_executor = create_sql_agent(llm, db=db, agent_type=\"openai-tools\", verbose=True)"
   ]
  },
  {
   "cell_type": "code",
   "execution_count": 17,
   "metadata": {},
   "outputs": [],
   "source": [
    "import pandas as pd\n",
    "from langchain_core.prompts import ChatPromptTemplate\n",
    "from langchain_experimental.tools import PythonAstREPLTool\n",
    "\n",
    "df = pd.read_csv(\"ecom_items.csv\")\n",
    "tool = PythonAstREPLTool(locals={\"df\": df})\n"
   ]
  },
  {
   "cell_type": "code",
   "execution_count": 19,
   "metadata": {},
   "outputs": [],
   "source": [
    "llm_with_tools = llm.bind_tools([tool], tool_choice=tool.name)\n",
    "from langchain_core.output_parsers.openai_tools import JsonOutputKeyToolsParser\n",
    "\n",
    "parser = JsonOutputKeyToolsParser(key_name=tool.name, first_tool_only=True)"
   ]
  },
  {
   "cell_type": "code",
   "execution_count": null,
   "metadata": {},
   "outputs": [],
   "source": [
    "system = f\"\"\"You have access to a pandas dataframe `df`. \n",
    "\n",
    "Given a user question, give the answer according to question\"\"\"\n",
    "prompt = ChatPromptTemplate.from_messages([(\"system\", system), (\"human\", \"{question}\")])\n",
    "code_chain = prompt | llm_with_tools | parser |tool\n",
    "code_chain.invoke({\"question\": \"What's is price of Refrigerator\"})"
   ]
  },
  {
   "cell_type": "code",
   "execution_count": 23,
   "metadata": {},
   "outputs": [
    {
     "ename": "ValueError",
     "evalue": "This agent relies on access to a python repl tool which can execute arbitrary code. This can be dangerous and requires a specially sandboxed environment to be safely used. Please read the security notice in the doc-string of this function. You must opt-in to use this functionality by setting allow_dangerous_code=True.For general security guidelines, please see: https://python.langchain.com/v0.2/docs/security/",
     "output_type": "error",
     "traceback": [
      "\u001b[1;31m---------------------------------------------------------------------------\u001b[0m",
      "\u001b[1;31mValueError\u001b[0m                                Traceback (most recent call last)",
      "Cell \u001b[1;32mIn[23], line 3\u001b[0m\n\u001b[0;32m      1\u001b[0m \u001b[38;5;28;01mfrom\u001b[39;00m \u001b[38;5;21;01mlangchain_experimental\u001b[39;00m\u001b[38;5;21;01m.\u001b[39;00m\u001b[38;5;21;01magents\u001b[39;00m \u001b[38;5;28;01mimport\u001b[39;00m create_pandas_dataframe_agent\n\u001b[1;32m----> 3\u001b[0m agent \u001b[38;5;241m=\u001b[39m \u001b[43mcreate_pandas_dataframe_agent\u001b[49m\u001b[43m(\u001b[49m\u001b[43mllm\u001b[49m\u001b[43m,\u001b[49m\u001b[43m \u001b[49m\u001b[43mdf\u001b[49m\u001b[43m,\u001b[49m\u001b[43m \u001b[49m\u001b[43magent_type\u001b[49m\u001b[38;5;241;43m=\u001b[39;49m\u001b[38;5;124;43m\"\u001b[39;49m\u001b[38;5;124;43mopenai-tools\u001b[39;49m\u001b[38;5;124;43m\"\u001b[39;49m\u001b[43m,\u001b[49m\u001b[43m \u001b[49m\u001b[43mverbose\u001b[49m\u001b[38;5;241;43m=\u001b[39;49m\u001b[38;5;28;43;01mTrue\u001b[39;49;00m\u001b[43m)\u001b[49m\n\u001b[0;32m      4\u001b[0m agent\u001b[38;5;241m.\u001b[39minvoke(\n\u001b[0;32m      5\u001b[0m     {\n\u001b[0;32m      6\u001b[0m         \u001b[38;5;124m\"\u001b[39m\u001b[38;5;124minput\u001b[39m\u001b[38;5;124m\"\u001b[39m: \u001b[38;5;124m\"\u001b[39m\u001b[38;5;124mWhat is price of refrigderator\u001b[39m\u001b[38;5;124m\"\u001b[39m\n\u001b[0;32m      7\u001b[0m     }\n\u001b[0;32m      8\u001b[0m )\n",
      "File \u001b[1;32me:\\users\\lib\\site-packages\\langchain_experimental\\agents\\agent_toolkits\\pandas\\base.py:249\u001b[0m, in \u001b[0;36mcreate_pandas_dataframe_agent\u001b[1;34m(llm, df, agent_type, callback_manager, prefix, suffix, input_variables, verbose, return_intermediate_steps, max_iterations, max_execution_time, early_stopping_method, agent_executor_kwargs, include_df_in_prompt, number_of_head_rows, extra_tools, engine, allow_dangerous_code, **kwargs)\u001b[0m\n\u001b[0;32m    175\u001b[0m \u001b[38;5;250m\u001b[39m\u001b[38;5;124;03m\"\"\"Construct a Pandas agent from an LLM and dataframe(s).\u001b[39;00m\n\u001b[0;32m    176\u001b[0m \n\u001b[0;32m    177\u001b[0m \u001b[38;5;124;03mSecurity Notice:\u001b[39;00m\n\u001b[1;32m   (...)\u001b[0m\n\u001b[0;32m    246\u001b[0m \n\u001b[0;32m    247\u001b[0m \u001b[38;5;124;03m\"\"\"\u001b[39;00m\n\u001b[0;32m    248\u001b[0m \u001b[38;5;28;01mif\u001b[39;00m \u001b[38;5;129;01mnot\u001b[39;00m allow_dangerous_code:\n\u001b[1;32m--> 249\u001b[0m     \u001b[38;5;28;01mraise\u001b[39;00m \u001b[38;5;167;01mValueError\u001b[39;00m(\n\u001b[0;32m    250\u001b[0m         \u001b[38;5;124m\"\u001b[39m\u001b[38;5;124mThis agent relies on access to a python repl tool which can execute \u001b[39m\u001b[38;5;124m\"\u001b[39m\n\u001b[0;32m    251\u001b[0m         \u001b[38;5;124m\"\u001b[39m\u001b[38;5;124marbitrary code. This can be dangerous and requires a specially sandboxed \u001b[39m\u001b[38;5;124m\"\u001b[39m\n\u001b[0;32m    252\u001b[0m         \u001b[38;5;124m\"\u001b[39m\u001b[38;5;124menvironment to be safely used. Please read the security notice in the \u001b[39m\u001b[38;5;124m\"\u001b[39m\n\u001b[0;32m    253\u001b[0m         \u001b[38;5;124m\"\u001b[39m\u001b[38;5;124mdoc-string of this function. You must opt-in to use this functionality \u001b[39m\u001b[38;5;124m\"\u001b[39m\n\u001b[0;32m    254\u001b[0m         \u001b[38;5;124m\"\u001b[39m\u001b[38;5;124mby setting allow_dangerous_code=True.\u001b[39m\u001b[38;5;124m\"\u001b[39m\n\u001b[0;32m    255\u001b[0m         \u001b[38;5;124m\"\u001b[39m\u001b[38;5;124mFor general security guidelines, please see: \u001b[39m\u001b[38;5;124m\"\u001b[39m\n\u001b[0;32m    256\u001b[0m         \u001b[38;5;124m\"\u001b[39m\u001b[38;5;124mhttps://python.langchain.com/v0.2/docs/security/\u001b[39m\u001b[38;5;124m\"\u001b[39m\n\u001b[0;32m    257\u001b[0m     )\n\u001b[0;32m    258\u001b[0m \u001b[38;5;28;01mtry\u001b[39;00m:\n\u001b[0;32m    259\u001b[0m     \u001b[38;5;28;01mif\u001b[39;00m engine \u001b[38;5;241m==\u001b[39m \u001b[38;5;124m\"\u001b[39m\u001b[38;5;124mmodin\u001b[39m\u001b[38;5;124m\"\u001b[39m:\n",
      "\u001b[1;31mValueError\u001b[0m: This agent relies on access to a python repl tool which can execute arbitrary code. This can be dangerous and requires a specially sandboxed environment to be safely used. Please read the security notice in the doc-string of this function. You must opt-in to use this functionality by setting allow_dangerous_code=True.For general security guidelines, please see: https://python.langchain.com/v0.2/docs/security/"
     ]
    }
   ],
   "source": []
  },
  {
   "cell_type": "code",
   "execution_count": 33,
   "metadata": {},
   "outputs": [],
   "source": [
    "from langchain_community.document_loaders.csv_loader import CSVLoader\n",
    "\n",
    "file_path = (\n",
    "    \"ecom_items.csv\"\n",
    ")\n",
    "\n",
    "loader = CSVLoader(file_path=file_path)\n",
    "data = loader.load()"
   ]
  },
  {
   "cell_type": "code",
   "execution_count": 34,
   "metadata": {},
   "outputs": [],
   "source": [
    "prompt = PromptTemplate.from_template(\n",
    "     \"\"\"From the {data} and the {query}, identify the product asked by the user and return the name , price  \"\"\" \n",
    "    \"\"\n",
    " \n",
    ")\n",
    "chain = prompt |llm\n",
    "query ='what is price of wasing machine'\n",
    "res = chain.invoke(input={'data':str(data),'query':str(query)})"
   ]
  },
  {
   "cell_type": "code",
   "execution_count": 35,
   "metadata": {},
   "outputs": [
    {
     "data": {
      "text/plain": [
       "'To identify the product and return the name and price, we can iterate through the list of documents and check if the item name matches the product asked by the user. Here\\'s a Python code snippet that accomplishes this:\\n\\n```python\\nclass Document:\\n    def __init__(self, metadata, page_content):\\n        self.metadata = metadata\\n        self.page_content = page_content\\n\\n    def get_item_info(self):\\n        lines = self.page_content.split(\\'\\\\n\\')\\n        item_info = {}\\n        for line in lines:\\n            key, value = line.split(\\': \\')\\n            item_info[key] = value\\n        return item_info\\n\\n\\ndef get_product_info(documents, product_name):\\n    for document in documents:\\n        item_info = document.get_item_info()\\n        if item_info[\\'Item\\'] == product_name:\\n            return item_info[\\'Item\\'], item_info[\\'Selling_Price\\']\\n    return None, None\\n\\n\\n# Example usage:\\ndocuments = [\\n    Document(metadata={\\'source\\': \\'ecom_items.csv\\', \\'row\\': 0}, page_content=\\'Item: Smartphone\\\\nCompany Name: TechInnovate\\\\nOriginal_Price: 500\\\\nSelling_Price: 550\\\\nDescription: A sleek and powerful smartphone with a 6.5-inch display, 128GB storage, and a 48MP camera for stunning photography.\\'),\\n    Document(metadata={\\'source\\': \\'ecom_items.csv\\', \\'row\\': 1}, page_content=\\'Item: Laptop\\\\nCompany Name: Computech\\\\nOriginal_Price: 800\\\\nSelling_Price: 880\\\\nDescription: High-performance laptop with a 15.6-inch Full HD display, 16GB RAM, and Intel i7 processor for multitasking and gaming.\\'),\\n    Document(metadata={\\'source\\': \\'ecom_items.csv\\', \\'row\\': 2}, page_content=\\'Item: Headphones\\\\nCompany Name: SoundMaster\\\\nOriginal_Price: 50\\\\nSelling_Price: 60\\\\nDescription: Noise-cancelling over-ear headphones with 20-hour battery life, deep bass, and Bluetooth 5.0 connectivity for wireless freedom.\\'),\\n    Document(metadata={\\'source\\': \\'ecom_items.csv\\', \\'row\\': 3}, page_content=\\'Item: Smartwatch\\\\nCompany Name: FitSmart\\\\nOriginal_Price: 150\\\\nSelling_Price: 165\\\\nDescription: Fitness-focused smartwatch with heart rate monitoring, GPS tracking, and water resistance up to 50 meters.\\'),\\n    Document(metadata={\\'source\\': \\'ecom_items.csv\\', \\'row\\': 4}, page_content=\\'Item: Bluetooth Speaker\\\\nCompany Name: SonicWave\\\\nOriginal_Price: 100\\\\nSelling_Price: 120\\\\nDescription: Portable Bluetooth speaker with 360-degree sound, 12-hour battery life, and IPX7 waterproof rating for outdoor use.\\'),\\n    Document(metadata={\\'source\\': \\'ecom_items.csv\\', \\'row\\': 5}, page_content=\\'Item: Tablet\\\\nCompany Name: TabTech\\\\nOriginal_Price: 300\\\\nSelling_Price: 350\\\\nDescription: 10.1-inch tablet with a crisp display, 64GB expandable storage, and dual speakers for immersive media experiences.\\'),\\n    Document(metadata={\\'source\\': \\'ecom_items.csv\\', \\'row\\': 6}, page_content=\\'Item: Camera\\\\nCompany Name: SnapVision\\\\nOriginal_Price: 600\\\\nSelling_Price: 680\\\\nDescription: 24.1MP DSLR camera with 4K video recording, optical zoom, and a large ISO range for professional-level photography.\\'),\\n    Document(metadata={\\'source\\': \\'ecom_items.csv\\', \\'row\\': 7}, page_content=\\'Item: Gaming Console\\\\nCompany Name: GameMax\\\\nOriginal_Price: 400\\\\nSelling_Price: 450\\\\nDescription: Next-gen gaming console with 4K graphics, ultra-fast SSD, and an ergonomic controller for enhanced gaming experiences.\\'),\\n    Document(metadata={\\'source\\': \\'ecom_items.csv\\', \\'row\\': 8}, page_content=\\'Item: Wireless Mouse\\\\nCompany Name: ClickPro\\\\nOriginal_Price: 20\\\\nSelling_Price: 25\\\\nDescription: Ergonomic wireless mouse with 1600 DPI, 2.4GHz wireless connectivity, and long battery life for uninterrupted work sessions.\\'),\\n    Document(metadata={\\'source\\': \\'ecom_items.csv\\', \\'row\\': 9}, page_content=\\'Item: Keyboard\\\\nCompany Name: KeyMatic\\\\nOriginal_Price: 30\\\\nSelling_Price: 40\\\\nDescription: Mechanical keyboard with customizable RGB lighting, tactile switches, and anti-ghosting for precision typing and gaming.\\'),\\n    Document(metadata={\\'source\\': \\'ecom_items.csv\\', \\'row\\': 10}, page_content=\\'Item: Monitor\\\\nCompany Name: VisionView\\\\nOriginal_Price: 200\\\\nSelling_Price: 230\\\\nDescription: 27-inch Full HD monitor with slim bezels, 75Hz refresh rate, and adaptive sync technology for smooth visuals.\\'),\\n    Document(metadata={\\'source\\': \\'ecom_items.csv\\', \\'row\\': 11}, page_content=\\'Item: Printer\\\\nCompany Name: PrintPlus\\\\nOriginal_Price: 150\\\\nSelling_Price: 175\\\\nDescription: All-in-one color printer with wireless printing, automatic duplex, and high-quality photo prints.\\'),\\n    Document(metadata={\\'source\\': \\'ecom_items.csv\\', \\'row\\': 12}, page_content=\\'Item: External Hard Drive\\\\nCompany Name: DataVault\\\\nOriginal_Price: 80\\\\nSelling_Price: 95\\\\nDescription: 1TB external hard drive with fast USB 3.0 transfer speeds, shock resistance, and password protection for secure storage.\\'),\\n    Document(metadata={\\'source\\': \\'ecom_items.csv\\', \\'row\\': 13}, page_content=\\'Item: Router\\\\nCompany Name: NetMaster\\\\nOriginal_Price: 70\\\\nSelling_Price: 85\\\\nDescription: Dual-band Wi-Fi router with 5GHz support, MU-MIMO technology, and wide coverage for seamless connectivity in large homes.\\'),\\n    Document(metadata={\\'source\\': \\'ecom_items.csv\\', \\'row\\': 14}, page_content=\\'Item: Television\\\\nCompany Name: CineView\\\\nOriginal_Price: 900\\\\nSelling_Price: 1000\\\\nDescription: 55-inch 4K UHD Smart TV with HDR support, built-in streaming apps, and voice control for a hands-free experience.\\'),\\n    Document(metadata={\\'source\\': \\'ecom_items.csv\\', \\'row\\': 15}, page_content=\\'Item: Air Conditioner\\\\nCompany Name: CoolBreeze\\\\nOriginal_Price: 1200\\\\nSelling_Price: 1300\\\\nDescription: 1.5-ton split air conditioner with fast cooling, energy efficiency, and smart temperature control via mobile app.\\'),\\n    Document(metadata={\\'source\\': \\'ecom_items.csv\\', \\'row\\': 16}, page_content=\\'Item: Microwave Oven\\\\nCompany Name: HeatMaster\\\\nOriginal_Price: 250\\\\nSelling_Price: 275\\\\nDescription: 30L microwave oven with convection mode, quick defrost function, and a child lock for added safety in the kitchen.\\'),\\n    Document(metadata={\\'source\\': \\'ecom_items.csv\\', \\'row\\': 17}, page_content=\\'Item: Refrigerator\\\\nCompany Name: ChillPro\\\\nOriginal_Price: 1000\\\\nSelling_Price: 1100\\\\nDescription: Double-door refrigerator with frost-free cooling, energy-efficient inverter technology, and ample storage space.\\'),\\n    Document(metadata={\\'source\\': \\'ecom_items.csv\\', \\'row\\': 18}, page_content=\\'Item: Washing Machine\\\\nCompany Name: WashMate\\\\nOriginal_Price: 700\\\\nSelling_Price: 780\\\\nDescription: 7kg fully automatic washing machine with smart wash programs, fast spin cycle, and noise reduction technology for quieter operation.\\'),\\n]\\n\\nproduct_name = \"Washing Machine\"\\nproduct, price = get_product_info(documents, product_name)\\n\\nif product:\\n    print(f\"The price of {product} is {price}.\")\\nelse:\\n    print(f\"Product \\'{product_name}\\' not found.\")\\n```\\n\\nWhen you run this code, it will print:\\n\\n```\\nThe price of Washing Machine is 780.\\n```'"
      ]
     },
     "execution_count": 35,
     "metadata": {},
     "output_type": "execute_result"
    }
   ],
   "source": [
    "res.content"
   ]
  },
  {
   "cell_type": "code",
   "execution_count": null,
   "metadata": {},
   "outputs": [],
   "source": [
    "loader = CSVLoader(\"./banklist.csv\", encoding=\"windows-1252\")\n",
    "documents = loader.load()\n",
    "\n",
    "db = Chroma.from_documents(documents, embedding_function)\n",
    "query = \"Did a bank fail in North Carolina?\"\n",
    "docs = db.similarity_search(query)\n",
    "print(docs[0].page_content)"
   ]
  },
  {
   "cell_type": "code",
   "execution_count": 11,
   "metadata": {},
   "outputs": [
    {
     "name": "stdout",
     "output_type": "stream",
     "text": [
      "Washing Machine\n"
     ]
    }
   ],
   "source": [
    "product_details = str(res.content)\n",
    "product_dict = {}\n",
    "\n",
    "# Split the string by lines\n",
    "lines = product_details.split('\\n')\n",
    "\n",
    "# Parse each line to extract key-value pairs\n",
    "for line in lines:\n",
    "    key, value = line.split(': ', 1)\n",
    "    product_dict[key] = value\n",
    "\n",
    "# Output the resulting dictionary\n",
    "print(product_dict['Item'])"
   ]
  },
  {
   "cell_type": "code",
   "execution_count": null,
   "metadata": {},
   "outputs": [],
   "source": []
  }
 ],
 "metadata": {
  "kernelspec": {
   "display_name": "Python 3",
   "language": "python",
   "name": "python3"
  },
  "language_info": {
   "codemirror_mode": {
    "name": "ipython",
    "version": 3
   },
   "file_extension": ".py",
   "mimetype": "text/x-python",
   "name": "python",
   "nbconvert_exporter": "python",
   "pygments_lexer": "ipython3",
   "version": "3.10.9"
  }
 },
 "nbformat": 4,
 "nbformat_minor": 2
}
